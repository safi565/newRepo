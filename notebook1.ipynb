{
  "metadata": {
    "kernelspec": {
      "name": "python",
      "display_name": "Python (Pyodide)",
      "language": "python"
    },
    "language_info": {
      "codemirror_mode": {
        "name": "python",
        "version": 3
      },
      "file_extension": ".py",
      "mimetype": "text/x-python",
      "name": "python",
      "nbconvert_exporter": "python",
      "pygments_lexer": "ipython3",
      "version": "3.8"
    }
  },
  "nbformat_minor": 5,
  "nbformat": 4,
  "cells": [
    {
      "id": "7d224ff4-922f-434f-8313-fd0b03af4d78",
      "cell_type": "markdown",
      "source": "# Date Science Tools and Ecosystem",
      "metadata": {}
    },
    {
      "id": "e0d20a90-465d-41e9-886b-bd8bab2492c8",
      "cell_type": "markdown",
      "source": "In this notebook, Data Science Tools and Ecosystem are summarized",
      "metadata": {}
    },
    {
      "id": "7248b68b-0930-469c-a92b-852f65ce943e",
      "cell_type": "markdown",
      "source": "Some of the popular languages that Data Scientists use are:\n1. Python\n2. C++\n3. SQL",
      "metadata": {}
    },
    {
      "id": "af88af3a-284e-43e4-9ee1-025adb19ddc2",
      "cell_type": "markdown",
      "source": "Some of the commonly used libraries by Data Scientists include:\n1. Pandas\n2. Matplotlib\n3. Numpy",
      "metadata": {}
    },
    {
      "id": "51988c65-44bf-4f98-b836-043ea23aaf8c",
      "cell_type": "markdown",
      "source": "|Data Science Tools|\n|--------------------|\n|Jupyter Notebook|\n|JupyterLite|\n|RStudio|",
      "metadata": {}
    },
    {
      "id": "c93652eb-422c-4212-bbc4-8861aba4d7b0",
      "cell_type": "markdown",
      "source": "### Below are a few examples fo evaluating airthmetic expressions in python",
      "metadata": {}
    },
    {
      "id": "11712186-96de-4fec-9cc0-45541d386c3c",
      "cell_type": "code",
      "source": "# This is a simple airthmetic explression to \n# multiply then add integer\n(3*4)+5",
      "metadata": {
        "trusted": true
      },
      "outputs": [
        {
          "execution_count": 10,
          "output_type": "execute_result",
          "data": {
            "text/plain": "17"
          },
          "metadata": {}
        }
      ],
      "execution_count": 10
    },
    {
      "id": "cb1e1894-f27e-4d25-a917-9a63b261a044",
      "cell_type": "code",
      "source": "# This will convert 200 minutes to hours by dividing \n# by 60\nhrs=200/60\nprint(hrs) ",
      "metadata": {
        "trusted": true
      },
      "outputs": [
        {
          "name": "stdout",
          "output_type": "stream",
          "text": "3.3333333333333335\n"
        }
      ],
      "execution_count": 15
    },
    {
      "id": "dee24e39-bc7b-4784-8849-b684f7e730f9",
      "cell_type": "markdown",
      "source": "Objectives:\n- List popular languages for Data Science\n- Popular data tools used for Data Science\n- Most commonly used libraries for Data Science",
      "metadata": {}
    },
    {
      "id": "05848f16-7e9e-47c5-bd29-cbfdf169e500",
      "cell_type": "markdown",
      "source": "## Author\nSafi",
      "metadata": {}
    },
    {
      "id": "cf100714-c296-43dd-9fe6-4d2ab89bfa88",
      "cell_type": "code",
      "source": "",
      "metadata": {
        "trusted": true
      },
      "outputs": [],
      "execution_count": null
    }
  ]
}